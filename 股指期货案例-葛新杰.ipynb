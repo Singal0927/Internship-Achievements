{
 "cells": [
  {
   "cell_type": "markdown",
   "metadata": {},
   "source": [
    "# GARCH 广义自回归条件异方差模型"
   ]
  },
  {
   "cell_type": "code",
   "execution_count": 42,
   "metadata": {},
   "outputs": [],
   "source": [
    "import pandas as pd\n",
    "import numpy as np\n",
    "import matplotlib.pyplot as plt\n",
    "import arch #GARCH所用到的库\n",
    "import statsmodels as sm\n",
    "import warnings\n",
    "import datetime #用于时间转换\n",
    "warnings.filterwarnings(\"ignore\")"
   ]
  },
  {
   "cell_type": "code",
   "execution_count": 43,
   "metadata": {},
   "outputs": [],
   "source": [
    "data=pd.read_excel('/Users/singal/Desktop/工作/第二次工作/案例一：股指期货案例/数据/表2数据.xlsx')"
   ]
  },
  {
   "cell_type": "code",
   "execution_count": 44,
   "metadata": {},
   "outputs": [
    {
     "data": {
      "text/html": [
       "<div>\n",
       "<style scoped>\n",
       "    .dataframe tbody tr th:only-of-type {\n",
       "        vertical-align: middle;\n",
       "    }\n",
       "\n",
       "    .dataframe tbody tr th {\n",
       "        vertical-align: top;\n",
       "    }\n",
       "\n",
       "    .dataframe thead th {\n",
       "        text-align: right;\n",
       "    }\n",
       "</style>\n",
       "<table border=\"1\" class=\"dataframe\">\n",
       "  <thead>\n",
       "    <tr style=\"text-align: right;\">\n",
       "      <th></th>\n",
       "      <th>Unnamed: 0</th>\n",
       "      <th>沪深300指数现货收盘价</th>\n",
       "      <th>沪深300指数期货收盘价</th>\n",
       "    </tr>\n",
       "  </thead>\n",
       "  <tbody>\n",
       "    <tr>\n",
       "      <th>0</th>\n",
       "      <td>2009-04-16</td>\n",
       "      <td>2687.11</td>\n",
       "      <td>NaN</td>\n",
       "    </tr>\n",
       "    <tr>\n",
       "      <th>1</th>\n",
       "      <td>2009-04-17</td>\n",
       "      <td>2650.69</td>\n",
       "      <td>NaN</td>\n",
       "    </tr>\n",
       "    <tr>\n",
       "      <th>2</th>\n",
       "      <td>2009-04-20</td>\n",
       "      <td>2707.67</td>\n",
       "      <td>NaN</td>\n",
       "    </tr>\n",
       "    <tr>\n",
       "      <th>3</th>\n",
       "      <td>2009-04-21</td>\n",
       "      <td>2675.44</td>\n",
       "      <td>NaN</td>\n",
       "    </tr>\n",
       "    <tr>\n",
       "      <th>4</th>\n",
       "      <td>2009-04-22</td>\n",
       "      <td>2576.28</td>\n",
       "      <td>NaN</td>\n",
       "    </tr>\n",
       "  </tbody>\n",
       "</table>\n",
       "</div>"
      ],
      "text/plain": [
       "  Unnamed: 0  沪深300指数现货收盘价  沪深300指数期货收盘价\n",
       "0 2009-04-16       2687.11           NaN\n",
       "1 2009-04-17       2650.69           NaN\n",
       "2 2009-04-20       2707.67           NaN\n",
       "3 2009-04-21       2675.44           NaN\n",
       "4 2009-04-22       2576.28           NaN"
      ]
     },
     "execution_count": 44,
     "metadata": {},
     "output_type": "execute_result"
    }
   ],
   "source": [
    "data.head()"
   ]
  },
  {
   "cell_type": "code",
   "execution_count": 45,
   "metadata": {},
   "outputs": [],
   "source": [
    "data=data.rename(columns={'Unnamed: 0':'日期'})#更改列名"
   ]
  },
  {
   "cell_type": "code",
   "execution_count": 46,
   "metadata": {},
   "outputs": [],
   "source": [
    "data['对数价格']=np.log(data['沪深300指数现货收盘价'])\n",
    "data['对数收益率']=data['对数价格']-data['对数价格'].shift(1)\n",
    "data=data.drop('沪深300指数期货收盘价',axis=1)#本案例不需要期货数据"
   ]
  },
  {
   "cell_type": "code",
   "execution_count": 47,
   "metadata": {},
   "outputs": [],
   "source": [
    "y=data['对数收益率'].dropna()#第一行没有数据，故删去。"
   ]
  },
  {
   "cell_type": "code",
   "execution_count": 48,
   "metadata": {},
   "outputs": [
    {
     "data": {
      "text/html": [
       "<div>\n",
       "<style scoped>\n",
       "    .dataframe tbody tr th:only-of-type {\n",
       "        vertical-align: middle;\n",
       "    }\n",
       "\n",
       "    .dataframe tbody tr th {\n",
       "        vertical-align: top;\n",
       "    }\n",
       "\n",
       "    .dataframe thead th {\n",
       "        text-align: right;\n",
       "    }\n",
       "</style>\n",
       "<table border=\"1\" class=\"dataframe\">\n",
       "  <thead>\n",
       "    <tr style=\"text-align: right;\">\n",
       "      <th></th>\n",
       "      <th>日期</th>\n",
       "      <th>沪深300指数现货收盘价</th>\n",
       "      <th>对数价格</th>\n",
       "      <th>对数收益率</th>\n",
       "    </tr>\n",
       "  </thead>\n",
       "  <tbody>\n",
       "    <tr>\n",
       "      <th>0</th>\n",
       "      <td>2009-04-16</td>\n",
       "      <td>2687.11</td>\n",
       "      <td>7.896222</td>\n",
       "      <td>NaN</td>\n",
       "    </tr>\n",
       "    <tr>\n",
       "      <th>1</th>\n",
       "      <td>2009-04-17</td>\n",
       "      <td>2650.69</td>\n",
       "      <td>7.882575</td>\n",
       "      <td>-0.013646</td>\n",
       "    </tr>\n",
       "    <tr>\n",
       "      <th>2</th>\n",
       "      <td>2009-04-20</td>\n",
       "      <td>2707.67</td>\n",
       "      <td>7.903844</td>\n",
       "      <td>0.021269</td>\n",
       "    </tr>\n",
       "    <tr>\n",
       "      <th>3</th>\n",
       "      <td>2009-04-21</td>\n",
       "      <td>2675.44</td>\n",
       "      <td>7.891869</td>\n",
       "      <td>-0.011975</td>\n",
       "    </tr>\n",
       "    <tr>\n",
       "      <th>4</th>\n",
       "      <td>2009-04-22</td>\n",
       "      <td>2576.28</td>\n",
       "      <td>7.854102</td>\n",
       "      <td>-0.037767</td>\n",
       "    </tr>\n",
       "  </tbody>\n",
       "</table>\n",
       "</div>"
      ],
      "text/plain": [
       "          日期  沪深300指数现货收盘价      对数价格     对数收益率\n",
       "0 2009-04-16       2687.11  7.896222       NaN\n",
       "1 2009-04-17       2650.69  7.882575 -0.013646\n",
       "2 2009-04-20       2707.67  7.903844  0.021269\n",
       "3 2009-04-21       2675.44  7.891869 -0.011975\n",
       "4 2009-04-22       2576.28  7.854102 -0.037767"
      ]
     },
     "execution_count": 48,
     "metadata": {},
     "output_type": "execute_result"
    }
   ],
   "source": [
    "data.head()"
   ]
  },
  {
   "cell_type": "markdown",
   "metadata": {},
   "source": [
    "在介绍GARCH之前，先引入ARCH自回归条件异方差模型，ARCH的具体构建步骤如下：\n",
    "1. 检验时间序列的平稳性，可用ADF检验。\n",
    "2. 绘制偏相关系数图，以得到均值方程，如m阶的AR模型。\n",
    "3. 构建AR模型，得到残差，并生成残差平方。\n",
    "4. 检验残差平方的相关性，检测方法可以为混成检验（Ljung-Box test）等，若存在相关性，则GARCH或ARCH效应存在；并确定残差平方的自相关阶数。\n",
    "5. 以方差作为被解释变量，残差作为解释变量构建AR模型。\n",
    "\n",
    "经过上述步骤即可得到ARCH(m)模型：\n",
    "$$ a_t=sigma_t \\epsilon_t$$\n",
    "$$\\sigma_t^2=\\alpha_0+\\sum_{i=1}^m \\alpha_i a_{t-i}^2$$\n",
    "\n",
    "对原案例作补充：混成检验，又称LB检验，是根据一系列滞后阶数\b来判断序列是否存在相关性。\n",
    "$$\\begin{aligned}\n",
    "&H_0:\\qquad\\hat\\rho_1^2=\\hat\\rho_2^2=\\cdots=\\hat\\rho_k^2=0\\\\\n",
    "&\\\\\n",
    "&H_1:\\qquad \\hat\\rho_k^2 \\not=0,\\quad 1\\leq k\\leq h\\\\\n",
    "&\\\\\n",
    "&Q=n(n+2)\\sum_{k=1}^h \\frac{\\hat\\rho_k^2}{n-k}\\sim X(h)\\\\\n",
    "\\end{aligned}$$"
   ]
  },
  {
   "cell_type": "code",
   "execution_count": 49,
   "metadata": {},
   "outputs": [],
   "source": [
    "adf=sm.api.tsa.stattools.adfuller(data['对数价格'])#检验平稳性"
   ]
  },
  {
   "cell_type": "markdown",
   "metadata": {},
   "source": [
    "sm.tsa.stattools.adfuller函数返回值依次为：\n",
    "1. 统计量的值\n",
    "2. 伴随概率\n",
    "3. 阶数\n",
    "4. 样本个数\n",
    "5. 3种显著性水平及对应的置信区间"
   ]
  },
  {
   "cell_type": "code",
   "execution_count": 50,
   "metadata": {},
   "outputs": [
    {
     "data": {
      "text/plain": [
       "(-2.3739455291571887,\n",
       " 0.14922550984098537,\n",
       " 0,\n",
       " 485,\n",
       " {'1%': -3.443905150512834,\n",
       "  '5%': -2.867517732199813,\n",
       "  '10%': -2.569953900520778},\n",
       " -2480.089452553145)"
      ]
     },
     "execution_count": 50,
     "metadata": {},
     "output_type": "execute_result"
    }
   ],
   "source": [
    "adf#无法拒绝原假设，对数价格序列是非平稳的"
   ]
  },
  {
   "cell_type": "markdown",
   "metadata": {},
   "source": [
    "绘制偏相关系数图，确定自回归阶数。"
   ]
  },
  {
   "cell_type": "code",
   "execution_count": 51,
   "metadata": {},
   "outputs": [
    {
     "data": {
      "image/png": "[encoded data removed]",
      "text/plain": [
       "<Figure size 432x288 with 1 Axes>"
      ]
     },
     "execution_count": 51,
     "metadata": {},
     "output_type": "execute_result"
    },
    {
     "data": {
      "image/png": "[encoded data removed]",
      "text/plain": [
       "<Figure size 432x288 with 1 Axes>"
      ]
     },
     "metadata": {
      "needs_background": "light"
     },
     "output_type": "display_data"
    }
   ],
   "source": [
    "sm.api.graphics.tsa.plot_pacf(y)#十一阶自相关系数显著不为0，故建立AR(11)模型"
   ]
  },
  {
   "cell_type": "markdown",
   "metadata": {},
   "source": [
    "构建AR(11)模型，作为均值方程。"
   ]
  },
  {
   "cell_type": "code",
   "execution_count": 52,
   "metadata": {},
   "outputs": [],
   "source": [
    "model = sm.tsa.arima.model.ARIMA(y,order=(11,0,0)).fit()#均值方程"
   ]
  },
  {
   "cell_type": "code",
   "execution_count": 53,
   "metadata": {},
   "outputs": [
    {
     "data": {
      "text/plain": [
       "Text(0.5, 1.0, 'Residuals Squares')"
      ]
     },
     "execution_count": 53,
     "metadata": {},
     "output_type": "execute_result"
    },
    {
     "data": {
      "image/png": "[encoded data removed]",
      "text/plain": [
       "<Figure size 1440x360 with 2 Axes>"
      ]
     },
     "metadata": {
      "needs_background": "light"
     },
     "output_type": "display_data"
    }
   ],
   "source": [
    "a=y-model.fittedvalues#得到残差\n",
    "a2=a**2#生成残差平方项\n",
    "\n",
    "fig=plt.figure(figsize=(20,5))\n",
    "ax1=fig.add_subplot(121)\n",
    "ax1.plot(a)\n",
    "ax1.set_title('Residuals')\n",
    "\n",
    "ax2=fig.add_subplot(122)\n",
    "ax2.plot(a2)\n",
    "ax2.set_title('Residuals Squares')"
   ]
  },
  {
   "cell_type": "markdown",
   "metadata": {},
   "source": [
    "观察可得，对数收益率的残差大致不存在相关性，但是残差的平方存在相关性，即存在GARCH效应，下面对残差平方进行混成检验，以得到显著结论。"
   ]
  },
  {
   "cell_type": "code",
   "execution_count": 54,
   "metadata": {},
   "outputs": [
    {
     "data": {
      "text/plain": [
       "(array([ 1.00000000e+00,  1.33204103e-02,  9.99207620e-02,  1.65006872e-01,\n",
       "         5.82346498e-02,  6.50969938e-04,  9.26627944e-02,  1.53437064e-01,\n",
       "         2.80107863e-02,  3.56551078e-02,  1.54913017e-01,  4.02175085e-02,\n",
       "         4.51039438e-02,  1.49925222e-01,  2.66898584e-02, -1.33290922e-02,\n",
       "         6.72842566e-02,  2.44933449e-02, -4.31556427e-03,  2.77584801e-02,\n",
       "         9.96190695e-02]),\n",
       " array([ 0.08658856,  4.96900753, 18.31121607, 19.97650103, 19.97670955,\n",
       "        24.21066196, 35.84397357, 36.23248421, 36.86330682, 48.79639677,\n",
       "        49.60237383, 50.61824491, 61.86631731, 62.22354271, 62.31282679,\n",
       "        64.59277391, 64.89554963, 64.90496915, 65.29551871, 70.33635634]),\n",
       " array([7.68559733e-01, 8.33669138e-02, 3.79395549e-04, 5.04761787e-04,\n",
       "        1.26236971e-03, 4.77648986e-04, 7.75760752e-06, 1.59201233e-05,\n",
       "        2.78381757e-05, 4.43851493e-07, 7.37836752e-07, 1.08762561e-06,\n",
       "        2.43032767e-08, 4.76243393e-08, 1.00524139e-07, 8.65531248e-08,\n",
       "        1.60035159e-07, 3.22262415e-07, 5.46614126e-07, 1.60487335e-07]))"
      ]
     },
     "execution_count": 54,
     "metadata": {},
     "output_type": "execute_result"
    }
   ],
   "source": [
    "test=sm.tsa.stattools.acf(a2,nlags=20,qstat=True)#返回值依次为自相关系数，混成检验统计量，伴随概率\n",
    "test"
   ]
  },
  {
   "cell_type": "code",
   "execution_count": 55,
   "metadata": {},
   "outputs": [
    {
     "data": {
      "text/html": [
       "<div>\n",
       "<style scoped>\n",
       "    .dataframe tbody tr th:only-of-type {\n",
       "        vertical-align: middle;\n",
       "    }\n",
       "\n",
       "    .dataframe tbody tr th {\n",
       "        vertical-align: top;\n",
       "    }\n",
       "\n",
       "    .dataframe thead th {\n",
       "        text-align: right;\n",
       "    }\n",
       "</style>\n",
       "<table border=\"1\" class=\"dataframe\">\n",
       "  <thead>\n",
       "    <tr style=\"text-align: right;\">\n",
       "      <th></th>\n",
       "      <th>AC</th>\n",
       "      <th>Q-statistic</th>\n",
       "      <th>p-value</th>\n",
       "    </tr>\n",
       "    <tr>\n",
       "      <th>lag</th>\n",
       "      <th></th>\n",
       "      <th></th>\n",
       "      <th></th>\n",
       "    </tr>\n",
       "  </thead>\n",
       "  <tbody>\n",
       "    <tr>\n",
       "      <th>1</th>\n",
       "      <td>0.013320</td>\n",
       "      <td>0.086589</td>\n",
       "      <td>7.685597e-01</td>\n",
       "    </tr>\n",
       "    <tr>\n",
       "      <th>2</th>\n",
       "      <td>0.099921</td>\n",
       "      <td>4.969008</td>\n",
       "      <td>8.336691e-02</td>\n",
       "    </tr>\n",
       "    <tr>\n",
       "      <th>3</th>\n",
       "      <td>0.165007</td>\n",
       "      <td>18.311216</td>\n",
       "      <td>3.793955e-04</td>\n",
       "    </tr>\n",
       "    <tr>\n",
       "      <th>4</th>\n",
       "      <td>0.058235</td>\n",
       "      <td>19.976501</td>\n",
       "      <td>5.047618e-04</td>\n",
       "    </tr>\n",
       "    <tr>\n",
       "      <th>5</th>\n",
       "      <td>0.000651</td>\n",
       "      <td>19.976710</td>\n",
       "      <td>1.262370e-03</td>\n",
       "    </tr>\n",
       "    <tr>\n",
       "      <th>6</th>\n",
       "      <td>0.092663</td>\n",
       "      <td>24.210662</td>\n",
       "      <td>4.776490e-04</td>\n",
       "    </tr>\n",
       "    <tr>\n",
       "      <th>7</th>\n",
       "      <td>0.153437</td>\n",
       "      <td>35.843974</td>\n",
       "      <td>7.757608e-06</td>\n",
       "    </tr>\n",
       "    <tr>\n",
       "      <th>8</th>\n",
       "      <td>0.028011</td>\n",
       "      <td>36.232484</td>\n",
       "      <td>1.592012e-05</td>\n",
       "    </tr>\n",
       "    <tr>\n",
       "      <th>9</th>\n",
       "      <td>0.035655</td>\n",
       "      <td>36.863307</td>\n",
       "      <td>2.783818e-05</td>\n",
       "    </tr>\n",
       "    <tr>\n",
       "      <th>10</th>\n",
       "      <td>0.154913</td>\n",
       "      <td>48.796397</td>\n",
       "      <td>4.438515e-07</td>\n",
       "    </tr>\n",
       "    <tr>\n",
       "      <th>11</th>\n",
       "      <td>0.040218</td>\n",
       "      <td>49.602374</td>\n",
       "      <td>7.378368e-07</td>\n",
       "    </tr>\n",
       "    <tr>\n",
       "      <th>12</th>\n",
       "      <td>0.045104</td>\n",
       "      <td>50.618245</td>\n",
       "      <td>1.087626e-06</td>\n",
       "    </tr>\n",
       "    <tr>\n",
       "      <th>13</th>\n",
       "      <td>0.149925</td>\n",
       "      <td>61.866317</td>\n",
       "      <td>2.430328e-08</td>\n",
       "    </tr>\n",
       "    <tr>\n",
       "      <th>14</th>\n",
       "      <td>0.026690</td>\n",
       "      <td>62.223543</td>\n",
       "      <td>4.762434e-08</td>\n",
       "    </tr>\n",
       "    <tr>\n",
       "      <th>15</th>\n",
       "      <td>-0.013329</td>\n",
       "      <td>62.312827</td>\n",
       "      <td>1.005241e-07</td>\n",
       "    </tr>\n",
       "    <tr>\n",
       "      <th>16</th>\n",
       "      <td>0.067284</td>\n",
       "      <td>64.592774</td>\n",
       "      <td>8.655312e-08</td>\n",
       "    </tr>\n",
       "    <tr>\n",
       "      <th>17</th>\n",
       "      <td>0.024493</td>\n",
       "      <td>64.895550</td>\n",
       "      <td>1.600352e-07</td>\n",
       "    </tr>\n",
       "    <tr>\n",
       "      <th>18</th>\n",
       "      <td>-0.004316</td>\n",
       "      <td>64.904969</td>\n",
       "      <td>3.222624e-07</td>\n",
       "    </tr>\n",
       "    <tr>\n",
       "      <th>19</th>\n",
       "      <td>0.027758</td>\n",
       "      <td>65.295519</td>\n",
       "      <td>5.466141e-07</td>\n",
       "    </tr>\n",
       "    <tr>\n",
       "      <th>20</th>\n",
       "      <td>0.099619</td>\n",
       "      <td>70.336356</td>\n",
       "      <td>1.604873e-07</td>\n",
       "    </tr>\n",
       "  </tbody>\n",
       "</table>\n",
       "</div>"
      ],
      "text/plain": [
       "           AC  Q-statistic       p-value\n",
       "lag                                     \n",
       "1    0.013320     0.086589  7.685597e-01\n",
       "2    0.099921     4.969008  8.336691e-02\n",
       "3    0.165007    18.311216  3.793955e-04\n",
       "4    0.058235    19.976501  5.047618e-04\n",
       "5    0.000651    19.976710  1.262370e-03\n",
       "6    0.092663    24.210662  4.776490e-04\n",
       "7    0.153437    35.843974  7.757608e-06\n",
       "8    0.028011    36.232484  1.592012e-05\n",
       "9    0.035655    36.863307  2.783818e-05\n",
       "10   0.154913    48.796397  4.438515e-07\n",
       "11   0.040218    49.602374  7.378368e-07\n",
       "12   0.045104    50.618245  1.087626e-06\n",
       "13   0.149925    61.866317  2.430328e-08\n",
       "14   0.026690    62.223543  4.762434e-08\n",
       "15  -0.013329    62.312827  1.005241e-07\n",
       "16   0.067284    64.592774  8.655312e-08\n",
       "17   0.024493    64.895550  1.600352e-07\n",
       "18  -0.004316    64.904969  3.222624e-07\n",
       "19   0.027758    65.295519  5.466141e-07\n",
       "20   0.099619    70.336356  1.604873e-07"
      ]
     },
     "execution_count": 55,
     "metadata": {},
     "output_type": "execute_result"
    }
   ],
   "source": [
    "acf,q,p=test\n",
    "df=pd.DataFrame()\n",
    "df['AC']=acf[1:]#自相关系数多出一项，即lag=0，故需删除\n",
    "df['Q-statistic']=q\n",
    "df['p-value']=p\n",
    "df['lag']=range(1,21)\n",
    "df=df.set_index('lag')\n",
    "df"
   ]
  },
  {
   "cell_type": "markdown",
   "metadata": {},
   "source": [
    "一阶自相关系数所对应的Q统计量的伴随概率小于0.1，其他阶的自相关系数所对应的Q统计量的伴随概率均小于0.01，故拒绝原假设，认为残差平方存在相关性，即存在GARCH效应。下面建立ARCH模型。"
   ]
  },
  {
   "cell_type": "code",
   "execution_count": 56,
   "metadata": {},
   "outputs": [
    {
     "data": {
      "image/png": "[encoded data removed]",
      "text/plain": [
       "<Figure size 432x288 with 1 Axes>"
      ]
     },
     "execution_count": 56,
     "metadata": {},
     "output_type": "execute_result"
    },
    {
     "data": {
      "image/png": "[encoded data removed]",
      "text/plain": [
       "<Figure size 432x288 with 1 Axes>"
      ]
     },
     "metadata": {
      "needs_background": "light"
     },
     "output_type": "display_data"
    }
   ],
   "source": [
    "sm.api.graphics.tsa.plot_pacf(a2)#大致定位10阶，建立AR(10)模型"
   ]
  },
  {
   "cell_type": "markdown",
   "metadata": {},
   "source": [
    "接下来即可根据残差的10阶滞后项建立关于方差的AR(10)模型，所得模型即为ARCH模型。实际中可以直接使用arch库，方便快捷。\n",
    "\n",
    "arch.arch_model函数的主要参数：\n",
    "1. y，表示时间序列。\n",
    "2. x，传入外生变量。\n",
    "3. mean，指定均值函数的类型，如“Constant”、“AR”等。\n",
    "4. lags，指定均值函数的滞后项。\n",
    "5. vol，指定波动率模型的类型，如“ARCH”、”GARCH“等。\n",
    "6. p，波动率模型的滞后阶数。"
   ]
  },
  {
   "cell_type": "code",
   "execution_count": 57,
   "metadata": {},
   "outputs": [
    {
     "name": "stdout",
     "output_type": "stream",
     "text": [
      "                           AR - ARCH Model Results                            \n",
      "==============================================================================\n",
      "Dep. Variable:                  对数收益率   R-squared:                       0.016\n",
      "Mean Model:                        AR   Adj. R-squared:                 -0.007\n",
      "Vol Model:                       ARCH   Log-Likelihood:                1280.90\n",
      "Distribution:                  Normal   AIC:                          -2515.80\n",
      "Method:            Maximum Likelihood   BIC:                          -2420.10\n",
      "                                        No. Observations:                  474\n",
      "Date:                Tue, Oct 26 2021   Df Residuals:                      451\n",
      "Time:                        11:25:30   Df Model:                           23\n",
      "                                  Mean Model                                 \n",
      "=============================================================================\n",
      "                 coef    std err          t      P>|t|       95.0% Conf. Int.\n",
      "-----------------------------------------------------------------------------\n",
      "Const      8.7200e-04  1.234e-03      0.706      0.480 [-1.548e-03,3.292e-03]\n",
      "对数收益率[1]       0.0192  8.874e-02      0.216      0.829      [ -0.155,  0.193]\n",
      "对数收益率[2]       0.0123      0.104      0.118      0.906      [ -0.192,  0.217]\n",
      "对数收益率[3]       0.0689  9.419e-02      0.731      0.465      [ -0.116,  0.254]\n",
      "对数收益率[4]      -0.0373  6.062e-02     -0.615      0.538    [ -0.156,8.152e-02]\n",
      "对数收益率[5]   9.7660e-03  7.772e-02      0.126      0.900      [ -0.143,  0.162]\n",
      "对数收益率[6]      -0.0379      0.107     -0.354      0.724      [ -0.248,  0.172]\n",
      "对数收益率[7]       0.0393      0.108      0.363      0.717      [ -0.173,  0.252]\n",
      "对数收益率[8]      -0.0288  6.583e-02     -0.438      0.662      [ -0.158,  0.100]\n",
      "对数收益率[9]      -0.0612  6.875e-02     -0.891      0.373    [ -0.196,7.350e-02]\n",
      "对数收益率[10]      0.0402  8.342e-02      0.482      0.629      [ -0.123,  0.204]\n",
      "对数收益率[11]     -0.0574      0.138     -0.415      0.678      [ -0.328,  0.214]\n",
      "                               Volatility Model                              \n",
      "=============================================================================\n",
      "                 coef    std err          t      P>|t|       95.0% Conf. Int.\n",
      "-----------------------------------------------------------------------------\n",
      "omega      1.6201e-04  1.560e-04      1.038      0.299 [-1.438e-04,4.678e-04]\n",
      "alpha[1]   4.8132e-18      0.191  2.514e-17      1.000      [ -0.375,  0.375]\n",
      "alpha[2]       0.0778  6.122e-02      1.271      0.204   [-4.216e-02,  0.198]\n",
      "alpha[3]       0.0330      0.124      0.265      0.791      [ -0.211,  0.277]\n",
      "alpha[4]   6.2050e-18      0.193  3.217e-17      1.000      [ -0.378,  0.378]\n",
      "alpha[5]       0.0208  6.407e-02      0.324      0.746      [ -0.105,  0.146]\n",
      "alpha[6]       0.1169      0.150      0.778      0.437      [ -0.178,  0.411]\n",
      "alpha[7]       0.0962      0.109      0.882      0.378      [ -0.118,  0.310]\n",
      "alpha[8]   6.4011e-18      0.326  1.966e-17      1.000      [ -0.638,  0.638]\n",
      "alpha[9]   1.8616e-20      0.454  4.101e-20      1.000      [ -0.890,  0.890]\n",
      "alpha[10]      0.0669      0.106      0.634      0.526      [ -0.140,  0.274]\n",
      "=============================================================================\n",
      "\n",
      "Covariance estimator: robust\n"
     ]
    }
   ],
   "source": [
    "import arch\n",
    "\n",
    "model=arch.arch_model(y,mean='AR',lags=11,vol='ARCH',p=10)\n",
    "result=model.fit(disp='off')#display=off，表示输出一个较为简洁的结果\n",
    "print(result.summary())"
   ]
  },
  {
   "cell_type": "code",
   "execution_count": 58,
   "metadata": {},
   "outputs": [
    {
     "name": "stdout",
     "output_type": "stream",
     "text": [
      "                           AR - GARCH Model Results                           \n",
      "==============================================================================\n",
      "Dep. Variable:                  对数收益率   R-squared:                       0.022\n",
      "Mean Model:                        AR   Adj. R-squared:                 -0.001\n",
      "Vol Model:                      GARCH   Log-Likelihood:                1274.50\n",
      "Distribution:                  Normal   AIC:                          -2519.01\n",
      "Method:            Maximum Likelihood   BIC:                          -2456.59\n",
      "                                        No. Observations:                  474\n",
      "Date:                Tue, Oct 26 2021   Df Residuals:                      459\n",
      "Time:                        11:25:32   Df Model:                           15\n",
      "                                  Mean Model                                 \n",
      "=============================================================================\n",
      "                 coef    std err          t      P>|t|       95.0% Conf. Int.\n",
      "-----------------------------------------------------------------------------\n",
      "Const      4.6466e-04  7.619e-04      0.610      0.542 [-1.029e-03,1.958e-03]\n",
      "对数收益率[1]       0.0361  4.486e-02      0.805      0.421   [-5.183e-02,  0.124]\n",
      "对数收益率[2]   4.1538e-03  4.989e-02  8.326e-02      0.934   [-9.363e-02,  0.102]\n",
      "对数收益率[3]       0.0621  4.809e-02      1.292      0.196   [-3.213e-02,  0.156]\n",
      "对数收益率[4]      -0.0228  4.496e-02     -0.508      0.612    [ -0.111,6.530e-02]\n",
      "对数收益率[5]   3.1536e-04  4.618e-02  6.829e-03      0.995 [-9.020e-02,9.083e-02]\n",
      "对数收益率[6]      -0.0126  4.960e-02     -0.253      0.800    [ -0.110,8.465e-02]\n",
      "对数收益率[7]       0.0338  4.975e-02      0.679      0.497   [-6.375e-02,  0.131]\n",
      "对数收益率[8]   1.0088e-03  4.259e-02  2.369e-02      0.981 [-8.247e-02,8.449e-02]\n",
      "对数收益率[9]      -0.0498  4.805e-02     -1.037      0.300    [ -0.144,4.435e-02]\n",
      "对数收益率[10]      0.0647  4.931e-02      1.311      0.190   [-3.200e-02,  0.161]\n",
      "对数收益率[11]     -0.0888  4.472e-02     -1.986  4.704e-02   [ -0.176,-1.162e-03]\n",
      "                              Volatility Model                              \n",
      "============================================================================\n",
      "                 coef    std err          t      P>|t|      95.0% Conf. Int.\n",
      "----------------------------------------------------------------------------\n",
      "omega      2.8782e-05  1.401e-06     20.538  9.892e-94 [2.604e-05,3.153e-05]\n",
      "alpha[1]       0.0501  2.188e-02      2.291  2.195e-02 [7.248e-03,9.303e-02]\n",
      "beta[1]        0.8498  1.818e-02     46.748      0.000     [  0.814,  0.885]\n",
      "============================================================================\n",
      "\n",
      "Covariance estimator: robust\n"
     ]
    }
   ],
   "source": [
    "model=arch.arch_model(y,mean='AR',lags=11,vol='GARCH').fit(disp='off')\n",
    "print(model.summary())"
   ]
  },
  {
   "cell_type": "markdown",
   "metadata": {},
   "source": [
    "表格最下方汇报了波动率模型的两个参数 $\\alpha$ 和 $\\beta$ 且均在1%的置信水平下显著。故得到波动率模型：$$\\sigma_t^2=0.00003+0.05 a_{t-1}^2+0.85 \\sigma_{t-1}^2$$\n",
    "最后参照教学案例，在GARCH模型中引入哑变量 $D_t$，股指期货推出(2010-4-16)前后分别为0和1。则原模型改进为：\n",
    "$$\\sigma_t^2=\\omega+\\alpha a_{t-1}^2+\\beta \\sigma_{t-1}^2+\\gamma D_t$$ \n",
    "若哑变量的系数$\\gamma$显著为正，则股指期货的推出加剧了股票市场的波动，若为显著为负，则减缓了股票市场的波动，若显著为0，则股指期货的推出对现货市场的影响甚微。"
   ]
  },
  {
   "cell_type": "code",
   "execution_count": 59,
   "metadata": {},
   "outputs": [
    {
     "data": {
      "text/plain": [
       "0    246\n",
       "1    240\n",
       "Name: 股指期货推出前后, dtype: int64"
      ]
     },
     "execution_count": 59,
     "metadata": {},
     "output_type": "execute_result"
    }
   ],
   "source": [
    "data=data.set_index('日期')\n",
    "data['股指期货推出前后']=1\n",
    "data.loc[:'2010-4-16','股指期货推出前后']=0\n",
    "data['股指期货推出前后'].value_counts()"
   ]
  },
  {
   "cell_type": "code",
   "execution_count": 64,
   "metadata": {},
   "outputs": [
    {
     "name": "stdout",
     "output_type": "stream",
     "text": [
      "                           AR - GARCH Model Results                           \n",
      "==============================================================================\n",
      "Dep. Variable:                  对数收益率   R-squared:                       0.022\n",
      "Mean Model:                        AR   Adj. R-squared:                 -0.001\n",
      "Vol Model:                      GARCH   Log-Likelihood:                1274.50\n",
      "Distribution:                  Normal   AIC:                          -2519.01\n",
      "Method:            Maximum Likelihood   BIC:                          -2456.59\n",
      "                                        No. Observations:                  474\n",
      "Date:                Tue, Oct 26 2021   Df Residuals:                      459\n",
      "Time:                        11:27:33   Df Model:                           15\n",
      "                                  Mean Model                                 \n",
      "=============================================================================\n",
      "                 coef    std err          t      P>|t|       95.0% Conf. Int.\n",
      "-----------------------------------------------------------------------------\n",
      "Const      4.6466e-04  7.619e-04      0.610      0.542 [-1.029e-03,1.958e-03]\n",
      "对数收益率[1]       0.0361  4.486e-02      0.805      0.421   [-5.183e-02,  0.124]\n",
      "对数收益率[2]   4.1538e-03  4.989e-02  8.326e-02      0.934   [-9.363e-02,  0.102]\n",
      "对数收益率[3]       0.0621  4.809e-02      1.292      0.196   [-3.213e-02,  0.156]\n",
      "对数收益率[4]      -0.0228  4.496e-02     -0.508      0.612    [ -0.111,6.530e-02]\n",
      "对数收益率[5]   3.1536e-04  4.618e-02  6.829e-03      0.995 [-9.020e-02,9.083e-02]\n",
      "对数收益率[6]      -0.0126  4.960e-02     -0.253      0.800    [ -0.110,8.465e-02]\n",
      "对数收益率[7]       0.0338  4.975e-02      0.679      0.497   [-6.375e-02,  0.131]\n",
      "对数收益率[8]   1.0088e-03  4.259e-02  2.369e-02      0.981 [-8.247e-02,8.449e-02]\n",
      "对数收益率[9]      -0.0498  4.805e-02     -1.037      0.300    [ -0.144,4.435e-02]\n",
      "对数收益率[10]      0.0647  4.931e-02      1.311      0.190   [-3.200e-02,  0.161]\n",
      "对数收益率[11]     -0.0888  4.472e-02     -1.986  4.704e-02   [ -0.176,-1.162e-03]\n",
      "                              Volatility Model                              \n",
      "============================================================================\n",
      "                 coef    std err          t      P>|t|      95.0% Conf. Int.\n",
      "----------------------------------------------------------------------------\n",
      "omega      2.8782e-05  1.401e-06     20.538  9.892e-94 [2.604e-05,3.153e-05]\n",
      "alpha[1]       0.0501  2.188e-02      2.291  2.195e-02 [7.248e-03,9.303e-02]\n",
      "beta[1]        0.8498  1.818e-02     46.748      0.000     [  0.814,  0.885]\n",
      "============================================================================\n",
      "\n",
      "Covariance estimator: robust\n"
     ]
    }
   ],
   "source": [
    "model=arch.arch_model(y,x=np.array(data['股指期货推出前后']),mean='AR',lags=11,vol='GARCH',p=1,q=1).fit(disp='off')\n",
    "print(model.summary())"
   ]
  },
  {
   "cell_type": "markdown",
   "metadata": {},
   "source": [
    "引入虚拟变量后的估计结果和未引入虚拟变量的估计结果一致。"
   ]
  }
 ],
 "metadata": {
  "interpreter": {
   "hash": "da5d3c13d5aa829161cf843792884de182f91ab2e540693bb706e0e23cabc9e9"
  },
  "kernelspec": {
   "display_name": "Python 3.8.10 64-bit ('py38': conda)",
   "name": "python3"
  },
  "language_info": {
   "codemirror_mode": {
    "name": "ipython",
    "version": 3
   },
   "file_extension": ".py",
   "mimetype": "text/x-python",
   "name": "python",
   "nbconvert_exporter": "python",
   "pygments_lexer": "ipython3",
   "version": "3.8.10"
  },
  "orig_nbformat": 4
 },
 "nbformat": 4,
 "nbformat_minor": 2
}
